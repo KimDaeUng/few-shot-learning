{
 "metadata": {
  "language_info": {
   "codemirror_mode": {
    "name": "ipython",
    "version": 3
   },
   "file_extension": ".py",
   "mimetype": "text/x-python",
   "name": "python",
   "nbconvert_exporter": "python",
   "pygments_lexer": "ipython3",
   "version": "3.6.10-final"
  },
  "orig_nbformat": 2,
  "kernelspec": {
   "name": "Python 3.6.10 64-bit ('exercise': conda)",
   "display_name": "Python 3.6.10 64-bit ('exercise': conda)",
   "metadata": {
    "interpreter": {
     "hash": "d2e7c46ba9ce0a6075aea3958f0646c4b948e075c9cf740ecc6f5275c643f289"
    }
   }
  }
 },
 "nbformat": 4,
 "nbformat_minor": 2,
 "cells": [
  {
   "cell_type": "code",
   "execution_count": 1,
   "metadata": {},
   "outputs": [],
   "source": [
    "import pickle\n",
    "import configparser\n",
    "config = configparser.ConfigParser()\n",
    "config.read(\"config.ini\")\n",
    "vocabulary = pickle.load(open(os.path.join(config['data']['path'], config['data']['vocabulary']), 'rb'))"
   ]
  },
  {
   "cell_type": "code",
   "execution_count": 28,
   "metadata": {},
   "outputs": [],
   "source": [
    "train_loader = pickle.load(open(os.path.join(config['data']['path'], config['data']['train_loader']), 'rb'))\n"
   ]
  },
  {
   "cell_type": "code",
   "execution_count": 37,
   "metadata": {},
   "outputs": [],
   "source": [
    "import copy"
   ]
  },
  {
   "cell_type": "code",
   "execution_count": 38,
   "metadata": {},
   "outputs": [],
   "source": [
    "instance_one = list(copy.deepcopy(train_loader.loaders['apparel.t2.train']['neg']))"
   ]
  },
  {
   "cell_type": "code",
   "execution_count": 44,
   "metadata": {},
   "outputs": [
    {
     "output_type": "execute_result",
     "data": {
      "text/plain": "32"
     },
     "metadata": {},
     "execution_count": 44
    }
   ],
   "source": [
    "len(instance_one[-2][0])"
   ]
  },
  {
   "cell_type": "code",
   "execution_count": 30,
   "metadata": {},
   "outputs": [
    {
     "output_type": "execute_result",
     "data": {
      "text/plain": "[&#39;apparel.t2.train&#39;,\n &#39;apparel.t4.train&#39;,\n &#39;apparel.t5.train&#39;,\n &#39;automotive.t2.train&#39;,\n &#39;automotive.t4.train&#39;,\n &#39;automotive.t5.train&#39;,\n &#39;baby.t2.train&#39;,\n &#39;baby.t4.train&#39;,\n &#39;baby.t5.train&#39;,\n &#39;beauty.t2.train&#39;,\n &#39;beauty.t4.train&#39;,\n &#39;beauty.t5.train&#39;,\n &#39;camera_photo.t2.train&#39;,\n &#39;camera_photo.t4.train&#39;,\n &#39;camera_photo.t5.train&#39;,\n &#39;cell_phones_service.t2.train&#39;,\n &#39;cell_phones_service.t4.train&#39;,\n &#39;cell_phones_service.t5.train&#39;,\n &#39;computer_video_games.t2.train&#39;,\n &#39;computer_video_games.t4.train&#39;,\n &#39;computer_video_games.t5.train&#39;,\n &#39;gourmet_food.t2.train&#39;,\n &#39;gourmet_food.t4.train&#39;,\n &#39;gourmet_food.t5.train&#39;,\n &#39;grocery.t2.train&#39;,\n &#39;grocery.t4.train&#39;,\n &#39;grocery.t5.train&#39;,\n &#39;health_personal_care.t2.train&#39;,\n &#39;health_personal_care.t4.train&#39;,\n &#39;health_personal_care.t5.train&#39;,\n &#39;jewelry_watches.t2.train&#39;,\n &#39;jewelry_watches.t4.train&#39;,\n &#39;jewelry_watches.t5.train&#39;,\n &#39;magazines.t2.train&#39;,\n &#39;magazines.t4.train&#39;,\n &#39;magazines.t5.train&#39;,\n &#39;music.t2.train&#39;,\n &#39;music.t4.train&#39;,\n &#39;music.t5.train&#39;,\n &#39;office_products.t2.train&#39;,\n &#39;office_products.t4.train&#39;,\n &#39;office_products.t5.train&#39;,\n &#39;outdoor_living.t2.train&#39;,\n &#39;outdoor_living.t4.train&#39;,\n &#39;outdoor_living.t5.train&#39;,\n &#39;software.t2.train&#39;,\n &#39;software.t4.train&#39;,\n &#39;software.t5.train&#39;,\n &#39;sports_outdoors.t2.train&#39;,\n &#39;sports_outdoors.t4.train&#39;,\n &#39;sports_outdoors.t5.train&#39;,\n &#39;toys_games.t2.train&#39;,\n &#39;toys_games.t4.train&#39;,\n &#39;toys_games.t5.train&#39;,\n &#39;video.t2.train&#39;,\n &#39;video.t4.train&#39;,\n &#39;video.t5.train&#39;]"
     },
     "metadata": {},
     "execution_count": 30
    }
   ],
   "source": [
    "train_loader.filenames"
   ]
  },
  {
   "cell_type": "code",
   "execution_count": 18,
   "metadata": {},
   "outputs": [
    {
     "output_type": "execute_result",
     "data": {
      "text/plain": "dict"
     },
     "metadata": {},
     "execution_count": 18
    }
   ],
   "source": [
    "type(train_loader.loaders_ins)"
   ]
  },
  {
   "cell_type": "code",
   "execution_count": 31,
   "metadata": {},
   "outputs": [
    {
     "output_type": "execute_result",
     "data": {
      "text/plain": "dict_keys([&#39;apparel.t2.train&#39;, &#39;apparel.t4.train&#39;, &#39;apparel.t5.train&#39;, &#39;automotive.t2.train&#39;, &#39;automotive.t4.train&#39;, &#39;automotive.t5.train&#39;, &#39;baby.t2.train&#39;, &#39;baby.t4.train&#39;, &#39;baby.t5.train&#39;, &#39;beauty.t2.train&#39;, &#39;beauty.t4.train&#39;, &#39;beauty.t5.train&#39;, &#39;camera_photo.t2.train&#39;, &#39;camera_photo.t4.train&#39;, &#39;camera_photo.t5.train&#39;, &#39;cell_phones_service.t2.train&#39;, &#39;cell_phones_service.t4.train&#39;, &#39;cell_phones_service.t5.train&#39;, &#39;computer_video_games.t2.train&#39;, &#39;computer_video_games.t4.train&#39;, &#39;computer_video_games.t5.train&#39;, &#39;gourmet_food.t2.train&#39;, &#39;gourmet_food.t4.train&#39;, &#39;gourmet_food.t5.train&#39;, &#39;grocery.t2.train&#39;, &#39;grocery.t4.train&#39;, &#39;grocery.t5.train&#39;, &#39;health_personal_care.t2.train&#39;, &#39;health_personal_care.t4.train&#39;, &#39;health_personal_care.t5.train&#39;, &#39;jewelry_watches.t2.train&#39;, &#39;jewelry_watches.t4.train&#39;, &#39;jewelry_watches.t5.train&#39;, &#39;magazines.t2.train&#39;, &#39;magazines.t4.train&#39;, &#39;magazines.t5.train&#39;, &#39;music.t2.train&#39;, &#39;music.t4.train&#39;, &#39;music.t5.train&#39;, &#39;office_products.t2.train&#39;, &#39;office_products.t4.train&#39;, &#39;office_products.t5.train&#39;, &#39;outdoor_living.t2.train&#39;, &#39;outdoor_living.t4.train&#39;, &#39;outdoor_living.t5.train&#39;, &#39;software.t2.train&#39;, &#39;software.t4.train&#39;, &#39;software.t5.train&#39;, &#39;sports_outdoors.t2.train&#39;, &#39;sports_outdoors.t4.train&#39;, &#39;sports_outdoors.t5.train&#39;, &#39;toys_games.t2.train&#39;, &#39;toys_games.t4.train&#39;, &#39;toys_games.t5.train&#39;, &#39;video.t2.train&#39;, &#39;video.t4.train&#39;, &#39;video.t5.train&#39;])"
     },
     "metadata": {},
     "execution_count": 31
    }
   ],
   "source": [
    "train_loader.loaders_ins.keys()"
   ]
  },
  {
   "cell_type": "code",
   "execution_count": 46,
   "metadata": {},
   "outputs": [
    {
     "output_type": "execute_result",
     "data": {
      "text/plain": "torch.Size([32, 229])"
     },
     "metadata": {},
     "execution_count": 46
    }
   ],
   "source": [
    "train_loader.loaders_ins['apparel.t2.train']['neg'][0][0].shape"
   ]
  },
  {
   "cell_type": "code",
   "execution_count": 7,
   "metadata": {},
   "outputs": [],
   "source": [
    "data, target = train_loader.get_batch()"
   ]
  },
  {
   "cell_type": "code",
   "execution_count": 11,
   "metadata": {},
   "outputs": [],
   "source": [
    "data, target = train_loader.get_batch()"
   ]
  },
  {
   "cell_type": "code",
   "execution_count": 14,
   "metadata": {},
   "outputs": [
    {
     "output_type": "execute_result",
     "data": {
      "text/plain": "tensor([   36,    94,     4,   140,  2892,   206,  3599,   653,  5573,    37,\n           24,   136,     2,   115,  3872,     2,  1342,   828,   615, 13894,\n         9880,   234,    18,   762,   120,   214,   605,    14,   370,   667,\n            9,    13,    16,    61,   517,     3,    22,   352,   667,  1182,\n           61,    37,   518,    19,    13,     7,   206,   847,     3,   488,\n            2,    91,   214,  6327,  1133,   112,    22,   375,  3872,    15,\n            3,     9,    13,   831,     2,    29,   401,   112,   104,    84,\n        10928,    17,   847,   370,  5471,   345,     3,   162,    44, 11245,\n           45,  4179,  6116,  3317,  1515,   482,    19,  2265,  1024,   159,\n           17,   179,  2629,    15,    17,  1118,    28,   119,   198,     2,\n         3402,   112,    60,  3872,    21,   777,   202,     3,   730,  2662,\n          370,    17,  1275,    22,   550,    13,   951,    20,  1798,     2,\n          757,    56,    25,  3872,    46,     2,   102,     2,    91,   207,\n         1262,     0,     0,     0,     0,     0,     0,     0,     0,     0,\n            0,     0,     0,     0,     0,     0,     0,     0,     0,     0,\n            0,     0,     0,     0,     0,     0,     0,     0,     0,     0,\n            0,     0,     0,     0,     0,     0,     0,     0,     0,     0,\n            0,     0,     0,     0,     0,     0,     0,     0,     0,     0,\n            0,     0,     0,     0,     0,     0,     0,     0,     0,     0,\n            0,     0,     0,     0,     0,     0,     0,     0,     0,     0,\n            0,     0,     0,     0,     0,     0,     0,     0,     0,     0,\n            0,     0,     0,     0,     0,     0,     0,     0,     0,     0,\n            0,     0,     0,     0,     0,     0,     0,     0,     0,     0,\n            0,     0,     0,     0,     0,     0,     0,     0,     0,     0,\n            0,     0,     0,     0,     0,     0,     0,     0,     0,     0,\n            0,     0,     0,     0,     0,     0,     0,     0,     0,     0,\n            0,     0,     0,     0,     0,     0,     0,     0,     0,     0,\n            0,     0,     0,     0,     0,     0,     0,     0,     0,     0,\n            0,     0,     0,     0,     0,     0,     0,     0,     0,     0,\n            0,     0,     0,     0,     0,     0,     0,     0,     0,     0,\n            0,     0,     0,     0,     0,     0,     0,     0,     0,     0,\n            0,     0,     0,     0,     0,     0,     0,     0,     0,     0,\n            0,     0,     0,     0,     0,     0,     0,     0,     0,     0,\n            0,     0,     0,     0,     0,     0,     0,     0,     0,     0,\n            0,     0,     0,     0,     0,     0,     0,     0,     0,     0,\n            0,     0,     0,     0,     0,     0,     0,     0,     0,     0,\n            0,     0,     0,     0,     0,     0,     0,     0,     0,     0,\n            0,     0,     0,     0,     0,     0,     0,     0,     0,     0,\n            0,     0,     0,     0,     0,     0,     0,     0,     0,     0,\n            0,     0,     0,     0,     0,     0,     0,     0,     0,     0,\n            0,     0,     0,     0,     0,     0,     0,     0,     0,     0,\n            0,     0,     0,     0,     0,     0,     0,     0,     0,     0,\n            0,     0,     0,     0,     0,     0,     0,     0,     0,     0,\n            0,     0,     0,     0,     0,     0,     0,     0,     0,     0,\n            0,     0,     0,     0,     0,     0,     0,     0,     0,     0,\n            0,     0,     0,     0,     0,     0,     0,     0,     0,     0,\n            0,     0,     0,     0,     0,     0,     0,     0,     0,     0,\n            0,     0,     0,     0,     0,     0,     0,     0,     0,     0,\n            0,     0,     0,     0,     0,     0,     0,     0,     0,     0,\n            0,     0,     0,     0,     0,     0,     0,     0,     0,     0,\n            0,     0,     0,     0,     0,     0,     0,     0,     0,     0,\n            0,     0,     0,     0,     0,     0,     0,     0,     0,     0,\n            0,     0,     0,     0,     0,     0,     0,     0,     0,     0,\n            0,     0,     0,     0,     0,     0,     0,     0,     0,     0,\n            0,     0,     0])"
     },
     "metadata": {},
     "execution_count": 14
    }
   ],
   "source": [
    "data[0]"
   ]
  },
  {
   "cell_type": "code",
   "execution_count": 13,
   "metadata": {},
   "outputs": [
    {
     "output_type": "execute_result",
     "data": {
      "text/plain": "torch.Size([64])"
     },
     "metadata": {},
     "execution_count": 13
    }
   ],
   "source": [
    "target.shape"
   ]
  },
  {
   "cell_type": "code",
   "execution_count": 3,
   "metadata": {},
   "outputs": [
    {
     "output_type": "execute_result",
     "data": {
      "text/plain": "&#39;should&#39;: 7997,\n         &#39;clue&#39;: 257,\n         &#39;bags&#39;: 584,\n         &#39;cheaply&#39;: 158,\n         &#39;made&#39;: 10462,\n         &#39;nearly&#39;: 1498,\n         &#39;nice&#39;: 7728,\n         &#39;look&#39;: 7095,\n         &#39;pictures&#39;: 3655,\n         &#39;company&#39;: 1936,\n         &#39;didnt&#39;: 446,\n         &#39;hated&#39;: 341,\n         &#39;how&#39;: 13651,\n         &#39;fit&#39;: 4040,\n         &#39;side&#39;: 3885,\n         &#39;ties&#39;: 151,\n         &#39;annoying&#39;: 1015,\n         &#39;hard&#39;: 6761,\n         &#39;keep&#39;: 5564,\n         &#39;tied&#39;: 146,\n         &#39;also&#39;: 20909,\n         &#39;m&#39;: 12061,\n         &#39;petite&#39;: 61,\n         &#39;dimensions&#39;: 139,\n         &#39;where&#39;: 8292,\n         &#39;thems&#39;: 3,\n         &#39;way&#39;: 12865,\n         &#39;off&#39;: 11202,\n         &#39;much&#39;: 18217,\n         &#39;if&#39;: 38286,\n         &#39;auctual&#39;: 1,\n         &#39;sizes&#39;: 415,\n         &#39;opposed&#39;: 272,\n         &#39;got&#39;: 10649,\n         &#39;bra&#39;: 744,\n         &#39;thinking&#39;: 1557,\n         &#39;rigorous&#39;: 15,\n         &#39;sports&#39;: 610,\n         &#39;38ddd&#39;: 3,\n         &#39;chest&#39;: 321,\n         &#39;think&#39;: 12321,\n         &#39;enell&#39;: 7,\n         &#39;bought&#39;: 11250,\n         &#39;perfect&#39;: 5752,\n         &#39;no&#39;: 21177,\n         &#39;bounce&#39;: 201,\n         &#39;whatsoever&#39;: 202,\n         &#39;amazed&#39;: 592,\n         &#39;bother&#39;: 618,\n         &#39;never&#39;: 11057,\n         &#39;promised&#39;: 222,\n         &#39;cancelled&#39;: 166,\n         &#39;account&#39;: 321,\n         &#39;credited&#39;: 94,\n         &#39;wrong&#39;: 2737,\n         &#39;color&#39;: 2838,\n         &#39;returned&#39;: 838,\n         &#39;told&#39;: 1785,\n         &#39;refund&#39;: 402,\n         &#39;still&#39;: 14261,\n         &#39;waiting&#39;: 1061,\n         &#39;amazon&#39;: 5849,\n         &#39;forbids&#39;: 7,\n         &#39;seller&#39;: 383,\n         &#39;ship&#39;: 694,\n         &#39;replacement&#39;: 807,\n         &#39;quite&#39;: 5784,\n         &#39;deceiving&#39;: 29,\n         &#39;suit&#39;: 460,\n         &#39;out&#39;: 32235,\n         &#39;cheap&#39;: 1804,\n         &#39;polyester&#39;: 40,\n         &#39;fabric&#39;: 595,\n         &#39;looks&#39;: 3703,\n         &#39;shiny&#39;: 244,\n         &#39;horrible&#39;: 857,\n         &#39;touch&#39;: 1455,\n         &#39;year&#39;: 8714,\n         &#39;olds&#39;: 227,\n         &#39;hate&#39;: 1135,\n         &#39;uncomfortable&#39;: 396,\n         &#39;stiffness&#39;: 11,\n         &#39;spend&#39;: 1267,\n         &#39;extra&#39;: 2423,\n         &#39;decent&#39;: 1172,\n         &#39;actually&#39;: 5796,\n         &#39;practical&#39;: 257,\n         &#39;toddler&#39;: 466,\n         &#39;need&#39;: 6618,\n         &#39;macys&#39;: 9,\n         &#39;january&#39;: 232,\n         &#39;companies&#39;: 288,\n         &#39;offer&#39;: 930,\n         &#39;free&#39;: 3067,\n         &#39;shipping&#39;: 1684,\n         &#39;charged&#39;: 521,\n         &#39;ms&#39;: 555,\n         &#39;michelle&#39;: 98,\n         &#39;watso&#39;: 1,\n         &#39;doesn&#39;: 7257,\n         &#39;slim&#39;: 242,\n         &#39;china&#39;: 459,\n         &#39;know&#39;: 10458,\n         &#39;what&#39;: 24360,\n         &#39;mean&#39;: 1835,\n         &#39;rather&#39;: 3115,\n         &#39;try&#39;: 4818,\n         &#39;double&#39;: 1093,\n         &#39;pearl&#39;: 180,\n         &#39;thong&#39;: 107,\n         &#39;single&#39;: 2629,\n         &#39;classier&#39;: 8,\n         &#39;than&#39;: 20998,\n         &#39;transparent&#39;: 74,\n         &#39;beads&#39;: 97,\n         &#39;nylon&#39;: 168,\n         &#39;string&#39;: 444,\n         &#39;bubbles&#39;: 230,\n         &#39;panty&#39;: 46,\n         &#39;restrictions&#39;: 85,\n         &#39;imposed&#39;: 29,\n         &#39;policyi&#39;: 5,\n         &#39;mistake&#39;: 602,\n         &#39;buying&#39;: 2861,\n         &#39;then&#39;: 13857,\n         &#39;paying&#39;: 413,\n         &#39;available&#39;: 2145,\n         &#39;over&#39;: 13717,\n         &#39;two&#39;: 12826,\n         &#39;bad&#39;: 6007,\n         &#39;experience&#39;: 2686,\n         &#39;initially&#39;: 427,\n         &#39;going&#39;: 6221,\n         &#39;order&#39;: 3367,\n         &#39;andrew&#39;: 145,\n         &#39;christian&#39;: 543,\n         &#39;until&#39;: 3593,\n         &#39;prices&#39;: 323,\n         &#39;checkout&#39;: 20,\n         &#39;2&#39;: 12011,\n         &#39;each&#39;: 6487,\n         &#39;4&#39;: 7135,\n         &#39;tee&#39;: 92,\n         &#39;more&#39;: 29363,\n         &#39;excessive&#39;: 128,\n         &#39;charge&#39;: 1212,\n         &#39;me&#39;: 26793,\n         &#39;20&#39;: 2257,\n         &#39;42&#39;: 96,\n         &#39;canceled&#39;: 34,\n         &#39;most&#39;: 15623,\n         &#39;only&#39;: 23601,\n         &#39;ordering&#39;: 571,\n         &#39;belt&#39;: 631,\n         &#39;50&#39;: 1433,\n         &#39;surcharge&#39;: 1,\n         &#39;yesterday&#39;: 405,\n         &#39;defective&#39;: 241,\n         &#39;buckle&#39;: 95,\n         &#39;backwards&#39;: 155,\n         &#39;reversible&#39;: 13,\n         &#39;plus&#39;: 2460,\n         &#39;material&#39;: 2102,\n         &#39;damaged&#39;: 307,\n         &#39;frayed&#39;: 28,\n         &#39;hole&#39;: 449,\n         &#39;isn&#39;: 4184,\n         &#39;worth&#39;: 6748,\n         &#39;cost&#39;: 1598,\n         &#39;hassle&#39;: 216,\n         &#39;send&#39;: 923,\n         &#39;ll&#39;: 7078,\n         &#39;probably&#39;: 4618,\n         &#39;throw&#39;: 778,\n         &#39;away&#39;: 4997,\n         &#39;learn&#39;: 1852,\n         &#39;deal&#39;: 2089,\n         &#39;choose&#39;: 930,\n         &#39;please&#39;: 1702,\n         &#39;pay&#39;: 1501,\n         &#39;attention&#39;: 1441,\n         &#39;charges&#39;: 211,\n         &#39;check&#39;: 2145,\n         &#39;may&#39;: 6286,\n         &#39;decide&#39;: 570,\n         &#39;revise&#39;: 17,\n         &#39;your&#39;: 24007,\n         &#39;pair&#39;: 1719,\n         &#39;big&#39;: 7088,\n         &#39;asked&#39;: 780,\n         &#39;rma&#39;: 9,\n         &#39;number&#39;: 2123,\n         &#39;smaller&#39;: 1198,\n         &#39;said&#39;: 4331,\n         &#39;could&#39;: 11793,\n         &#39;snail&#39;: 26,\n         &#39;mail&#39;: 579,\n         &#39;ups&#39;: 515,\n         &#39;lable&#39;: 10,\n         &#39;month&#39;: 2430,\n         &#39;come&#39;: 6252,\n         &#39;emailed&#39;: 113,\n         &#39;services&#39;: 115,\n         &#39;smail&#39;: 1,\n         &#39;email&#39;: 437,\n         &#39;whereas&#39;: 215,\n         &#39;do&#39;: 154,\n         &#39;able&#39;: 4115,\n         &#39;bargain&#39;: 339,\n         &#39;outfitters&#39;: 2,\n         &#39;online&#39;: 1233,\n         &#39;shoes&#39;: 2184,\n         &#39;finally&#39;: 2953,\n         &#39;paid&#39;: 1063,\n         &#39;15&#39;: 1741,\n         &#39;boots&#39;: 641,\n         &#39;dine&#39;: 15,\n         &#39;doubt&#39;: 1067,\n         &#39;reimburse&#39;: 10,\n         &#39;chaarge&#39;: 1,\n         &#39;re&#39;: 9441,\n         &#39;stocking&#39;: 65,\n         &#39;fee&#39;: 83,\n         &#39;ever&#39;: 9779,\n         &#39;sportsman&#39;: 3,\n         &#39;guide&#39;: 378,\n         &#39;loved&#39;: 4103,\n         &#39;sent&#39;: 1124,\n         &#39;telling&#39;: 663,\n         &#39;fessed&#39;: 1,\n         &#39;chose&#39;: 508,\n         &#39;wanted&#39;: 3324,\n         &#39;sub&#39;: 261,\n         &#39;looked&#39;: 1655,\n         &#39;pretty&#39;: 6235,\n         &#39;destination&#39;: 99,\n         &#39;match&#39;: 695,\n         &#39;which&#39;: 20729,\n         &#39;pin&#39;: 183,\n         &#39;striped&#39;: 24,\n         &#39;didn&#39;: 6647,\n         &#39;recipient&#39;: 47,\n         &#39;nor&#39;: 712,\n         &#39;invoiced&#39;: 1,\n         &#39;currious&#39;: 1,\n         &#39;plans&#39;: 294,\n         &#39;point&#39;: 3820,\n         &#39;intend&#39;: 111,\n         &#39;correct&#39;: 721,\n         &#39;everything&#39;: 4336,\n         &#39;else&#39;: 3180,\n         &#39;late&#39;: 1779,\n         &#39;durring&#39;: 8,\n         &#39;holiday&#39;: 475,\n         &#39;products&#39;: 2224,\n         &#39;otherwise&#39;: 1218,\n         &#39;purchase&#39;: 3410,\n         &#39;thank&#39;: 1446,\n         &#39;goodness&#39;: 236,\n         &#39;girls&#39;: 1724,\n         &#39;embarrassed&#39;: 48,\n         &#39;d&#39;: 5741,\n         &#39;gift&#39;: 2804,\n         &#39;someone&#39;: 3092,\n         &#39;shouldn&#39;: 446,\n         &#39;expect&#39;: 1731,\n         &#39;alot&#39;: 1221,\n         &#39;5&#39;: 9544,\n         &#39;thought&#39;: 5322,\n         &#39;medium&#39;: 659,\n         &#39;2x&#39;: 83,\n         &#39;bigger&#39;: 897,\n         &#39;regular&#39;: 1435,\n         &#39;ugly&#39;: 383,\n         &#39;broke&#39;: 978,\n         &#39;through&#39;: 8212,\n         &#39;toe&#39;: 252,\n         &#39;second&#39;: 4246,\n         &#39;wearing&#39;: 1269,\n         &#39;lousy&#39;: 100,\n         &#39;boy&#39;: 1948,\n         &#39;fly&#39;: 541,\n         &#39;front&#39;: 1805,\n         &#39;mens&#39;: 57,\n         &#39;versions&#39;: 1132,\n         &#39;wear&#39;: 2739,\n         &#39;son&#39;: 5717,\n         &#39;least&#39;: 3756,\n         &#39;favorite&#39;: 6191,\n         &#39;underwear&#39;: 223,\n         &#39;mearly&#39;: 2,\n         &#39;cause&#39;: 1089,\n         &#39;he&#39;: 36526,\n         &#39;pull&#39;: 1238,\n         &#39;down&#39;: 8002,\n         &#39;bath&#39;: 517,\n         &#39;room&#39;: 2553,\n         &#39;6&#39;: 3922,\n         &#39;trained&#39;: 125,\n         &#39;him&#39;: 9537,\n         &#39;tought&#39;: 9,\n         &#39;his&#39;: 34306,\n         &#39;personal&#39;: 1505,\n         &#39;thoughts&#39;: 304,\n         &#39;men&#39;: 2015,\n         &#39;s&#39;: 1874,\n         &#39;unlike&#39;: 1236,\n         &#39;women&#39;: 1807,\n         &#39;whom&#39;: 556,\n         &#39;require&#39;: 405,\n         &#39;says&#39;: 2119,\n         &#39;woman&#39;: 2321,\n         &#39;105lbs&#39;: 1,\n         &#39;tight&#39;: 1210,\n         &#39;jr&#39;: 315,\n         &#39;tag&#39;: 256,\n         &#39;states&#39;: 658,\n         &#39;now&#39;: 13800,\n         &#39;sending&#39;: 229,\n         &#39;wore&#39;: 492,\n         &#39;day&#39;: 8082,\n         &#39;every&#39;: 9662,\n         &#39;week&#39;: 2163,\n         &#39;five&#39;: 2103,\n         &#39;collar&#39;: 120,\n         &#39;points&#39;: 1015,\n         &#39;worn&#39;: 692,\n         &#39;underneath&#39;: 265,\n         &#39;showing&#39;: 745,\n         &#39;blue&#39;: 1886,\n         &#39;can&#39;: 7432,\n         &#39;work&#39;: 10790,\n         &#39;unacceptable&#39;: 61,\n         &#39;garment&#39;: 34,\n         &#39;labeled&#39;: 145,\n         &#39;large&#39;: 2425,\n         &#39;fact&#39;: 4361,\n         &#39;best&#39;: 18063,\n         &#39;workmanship&#39;: 81,\n         &#39;mislabeled&#39;: 12,\n         &#39;poorly&#39;: 401,\n         &#39;zipper&#39;: 210,\n         &#39;arrived&#39;: 1320,\n         &#39;tried&#39;: 3853,\n         &#39;thread&#39;: 118,\n         &#39;torn&#39;: 164,\n         &#39;apart&#39;: 1188,\n         &#39;fell&#39;: 876,\n         &#39;stuff&#39;: 3550,\n         &#39;jacket&#39;: 400,\n         &#39;pictured&#39;: 131,\n         &#39;entirely&#39;: 580,\n         &#39;bernardo&#39;: 10,\n         &#39;same&#39;: 8249,\n         &#39;incorrect&#39;: 108,\n         &#39;wouldn&#39;: 1926,\n         &#39;unless&#39;: 1426,\n         &#39;assures&#39;: 13,\n         &#39;inventory&#39;: 33,\n         &#39;glitch&#39;: 49,\n         &#39;corrected&#39;: 69,\n         &#39;lame&#39;: 291,\n         &#39;ass&#39;: 172,\n         &#39;y&#39;: 286,\n         &#39;fronts&#39;: 24,\n         &#39;kid&#39;: 1634,\n         &#39;boring&#39;: 1110,\n         &#39;folks&#39;: 571,\n         &#39;shopping&#39;: 531,\n         &#39;switch&#39;: 679,\n         &#39;thongs&#39;: 53,\n         &#39;girlfriend&#39;: 502,\n         &#39;she&#39;: 19982,\n         &#39;clear&#39;: 2021,\n         &#39;ditch&#39;: 31,\n         &#39;grandpa&#39;: 70,\n         &#39;undies&#39;: 20,\n         &#39;gladly&#39;: 63,\n         &#39;there&#39;: 27967,\n         &#39;maxi&#39;: 23,\n         &#39;sh&#39;: 92,\n         &#39;anymore&#39;: 862,\n         &#39;old&#39;: 12677,\n         &#39;pairs&#39;: 333,\n         &#39;few&#39;: 8644,\n         &#39;ago&#39;: 3274,\n         &#39;freakin&#39;: 53,\n         &#39;huge&#39;: 2054,\n         &#39;talking&#39;: 1104,\n         &#39;fat&#39;: 744,\n         &#39;guy&#39;: 2295,\n         &#39;realize&#39;: 975,\n         &#39;modern&#39;: 1330,\n         &#39;advice&#39;: 634,\n         &#39;putting&#39;: 1161,\n         &#39;either&#39;: 3016,\n         &#39;boxers&#39;: 83,\n         &#39;briefs&#39;: 135,\n         &#39;trash&#39;: 426,\n         &#39;happy&#39;: 3824,\n         &#39;lost&#39;: 2342,\n         &#39;contact&#39;: 446,\n         &#39;help&#39;: 3543,\n         &#39;larger&#39;: 1190,\n         &#39;wrote&#39;: 894,\n         &#39;saying&#39;: 1317,\n         &#39;denied&#39;: 61,\n         &#39;make&#39;: 12362,\n         &#39;mistate&#39;: 1,\n         &#39;new&#39;: 12757,\n         &#39;its&#39;: 14149,\n         &#39;postage&#39;: 47,\n         &#39;lables&#39;: 2,\n         &#39;recieved&#39;: 366,\n         &#39;half&#39;: 2776,\n         &#39;dozen&#39;: 294,\n         &#39;emails&#39;: 102,\n         &#39;asking&#39;: 360,\n         &#39;reply&#39;: 95,\n         &#39;such&#39;: 6913,\n         &#39;poor&#39;: 1431,\n         &#39;high&#39;: 5136,\n         &#39;expectations&#39;: 485,\n         &#39;socks&#39;: 530,\n         &#39;given&#39;: 2253,\n         &#39;previous&#39;: 1801,\n         &#39;experiences&#39;: 325,\n         &#39;brand&#39;: 1373,\n         &#39;narrow&#39;: 263,\n         &#39;foot&#39;: 782,\n         &#39;around&#39;: 7609,\n         &#39;ankle&#39;: 136,\n         &#39;comfortable&#39;: 3074,\n         &#39;overall&#39;: 3829,\n         &#39;disappointment&#39;: 544,\n         &#39;purchaser&#39;: 12,\n         &#39;cut&#39;: 2158,\n         &#39;60gb&#39;: 10,\n         &#39;tighly&#39;: 1,\n         &#39;depresses&#39;: 4,\n         &#39;buttons&#39;: 664,\n         &#39;user&#39;: 817,\n         &#39;push&#39;: 825,\n         &#39;suppose&#39;: 438,\n         &#39;we&#39;: 23872,\n         &#39;zen&#39;: 222,\n         &#39;owners&#39;: 179,\n         &#39;must&#39;: 6260,\n         &#39;resign&#39;: 4,\n         &#39;ourselves&#39;: 173,\n         &#39;those&#39;: 8714,\n         &#39;stupid&#39;: 656,\n         &#39;skins&#39;: 34,\n         &#39;our&#39;: 7933,\n         &#39;players&#39;: 1061,\n         &#39;placed&#39;: 632,\n         &#39;10&#39;: 5183,\n         &#39;called&#39;: 2444,\n         &#39;blood&#39;: 992,\n         &#39;racing&#39;: 179,\n         &#39;shipper&#39;: 16,\n         &#39;find&#39;: 9700,\n         &#39;info&#39;: 426,\n         &#39;16&#39;: 816,\n         &#39;shipped&#39;: 522,\n         &#39;23&#39;: 208,\n         &#39;24&#39;: 647,\n         &#39;some&#39;: 24522,\n         &#39;problem&#39;: 4612,\n         &#39;shoe&#39;: 1084,\n         &#39;long&#39;: 8219,\n         &#39;contacted&#39;: 219,\n         &#39;delay&#39;: 126,\n         &#39;receiving&#39;: 304,\n         &#39;following&#39;: 885,\n         &#39;washing&#39;: 329,\n         &#39;instructions&#39;: 1066,\n         &#39;dryer&#39;: 412,\n         &#39;shrunk&#39;: 36,\n         &#39;lengthwise&#39;: 8,\n         &#39;problems&#39;: 2740,\n         &#39;forward&#39;: 1295,\n         &#39;less&#39;: 4209,\n         &#39;times&#39;: 6182,\n         &#39;leather&#39;: 689,\n         &#39;detailing&#39;: 97,\n         &#39;already&#39;: 3011,\n         &#39;typical&#39;: 899,\n         &#39;nine&#39;: 306,\n         &#39;west&#39;: 777,\n         &#39;getting&#39;: 4333,\n         &#39;added&#39;: 1323,\n         &#39;collection&#39;: 4045,\n         &#39;thrown&#39;: 398,\n         &#39;yard&#39;: 358,\n         &#39;spent&#39;: 1161,\n         &#39;gives&#39;: 2635,\n         &#39;classic&#39;: 4556,\n         &#39;torpedo&#39;: 4,\n         &#39;shape&#39;: 910,\n         &#39;breasts&#39;: 76,\n         &#39;lift&#39;: 279,\n         &#39;unwearable&#39;: 5,\n         &#39;give&#39;: 6262,\n         &#39;pain&#39;: 1105,\n         &#39;cute&#39;: 1870,\n         &#39;picture&#39;: 3334,\n         &#39;considering&#39;: 1020,\n         &#39;somewhat&#39;: 1392,\n         &#39;doable&#39;: 15,\n         &#39;buyer&#39;: 142,\n         &#39;heels&#39;: 160,\n         &#39;run&#39;: 2493,\n         &#39;suggest&#39;: 1065,\n         &#39;want&#39;: 9433,\n         &#39;anything&#39;: 4490,\n         &#39;besides&#39;: 716,\n         &#39;sitting&#39;: 773,\n         &#39;looking&#39;: 5636,\n         &#39;walked&#39;: 247,\n         &#39;minutes&#39;: 3834,\n         &#39;started&#39;: 2625,\n         &#39;tearing&#39;: 72,\n         &#39;blistering&#39;: 52,\n         &#39;toes&#39;: 182,\n         &#39;wide&#39;: 1458,\n         &#39;definitely&#39;: 3949,\n         &#39;admit&#39;: 855,\n         &#39;darling&#39;: 106,\n         &#39;six&#39;: 1024,\n         &#39;chairs&#39;: 286,\n         &#39;august&#39;: 152,\n         &#39;myself&#39;: 2564,\n         &#39;friends&#39;: 3025,\n         &#39;start&#39;: 3273,\n         &#39;college&#39;: 747,\n         &#39;football&#39;: 390,\n         &#39;season&#39;: 786,\n         &#39;tailgaiting&#39;: 2,\n         &#39;manufacturer&#39;: 382,\n         &#39;north&#39;: 313,\n         &#39;pole&#39;: 111,\n         &#39;nfl&#39;: 82,\n         &#39;logos&#39;: 19,\n         &#39;others&#39;: 3636,\n         &#39;due&#39;: 1767,\n         &#39;availability&#39;: 40,\n         &#39;issues&#39;: 1515,\n         &#39;game&#39;: 13080,\n         &#39;chair&#39;: 856,\n         &#39;steelers&#39;: 2,\n         &#39;bengals&#39;: 2,\n         &#39;broncos&#39;: 4,\n         &#39;misused&#39;: 3,\n         &#39;weight&#39;: 1783,\n         &#39;limits&#39;: 159,\n         &#39;exceeded&#39;: 91,\n         &#39;exact&#39;: 444,\n         &#39;plastic&#39;: 2024,\n         &#39;pieces&#39;: 2351,\n         &#39;base&#39;: 774,\n         &#39;cracked&#39;: 209,\n         &#39;therefore&#39;: 518,\n         &#39;within&#39;: 1938,\n         &#39;hours&#39;: 2801,\n         &#39;needless&#39;: 273,\n         &#39;say&#39;: 8921,\n         &#39;25&#39;: 772,\n         &#39;30&#39;: 1665,\n         &#39;prospective&#39;: 25,\n         &#39;buyers&#39;: 118,\n         &#39;elsewhere&#39;: 390,\n         &#39;paper&#39;: 1014,\n         &#39;thin&#39;: 945,\n         &#39;cotton&#39;: 411,\n         &#39;feel&#39;: 6621,\n         &#39;rough&#39;: 477,\n         &#39;soften&#39;: 46,\n         &#39;disintegrate&#39;: 6,\n         &#39;thumbs&#39;: 219,\n         &#39;usually&#39;: 1988,\n         &#39;ck&#39;: 74,\n         &#39;fan&#39;: 5224,\n         &#39;stay&#39;: 1790,\n         &#39;love&#39;: 21549,\n         &#39;dkny&#39;: 15,\n         &#39;wristtop&#39;: 1,\n         &#39;battery&#39;: 3271,\n         &#39;completely&#39;: 2216,\n         &#39;suunto&#39;: 61,\n         &#39;proper&#39;: 394,\n         &#39;tech&#39;: 430,\n         &#39;fix&#39;: 606,\n         &#39;cheaper&#39;: 722,\n         &#39;options&#39;: 586,\n         &#39;forerunner&#39;: 18,\n         &#39;201&#39;: 5,\n         &#39;301&#39;: 5,\n         &#39;timex&#39;: 50,\n         &#39;trail&#39;: 178,\n         &#39;runner&#39;: 118,\n         &#39;signal&#39;: 195,\n         &#39;detection&#39;: 22,\n         &#39;weaker&#39;: 95,\n         &#39;hiking&#39;: 158,\n         &#39;grand&#39;: 546,\n         &#39;canyon&#39;: 57,\n         &#39;unit&#39;: 1628,\n         &#39;remained&#39;: 173,\n         &#39;without&#39;: 7352,\n         &#39;capturing&#39;: 177,\n         &#39;cloth&#39;: 281,\n         &#39;aweful&#39;: 11,\n         &#39;insulation&#39;: 19,\n         &#39;factor&#39;: 385,\n         &#39;hope&#39;: 2358,\n         &#39;surprise&#39;: 786,\n         &#39;mi&#39;: 158,\n         &#39;wife&#39;: 2635,\n         &#39;dosent&#39;: 19,\n         &#39;pissed&#39;: 45,\n         &#39;gonna&#39;: 558,\n         &#39;piece&#39;: 2982,\n         &#39;junk&#39;: 516,\n         &#39;terrible&#39;: 877,\n         &#39;dd&#39;: 50,\n         &#39;cups&#39;: 282,\n         &#39;matter&#39;: 2059,\n         &#39;cup&#39;: 709,\n         &#39;fleece&#39;: 86,\n         &#39;xl&#39;: 90,\n         &#39;length&#39;: 1034,\n         &#39;measurement&#39;: 58,\n         &#39;mentioned&#39;: 986,\n         &#39;weightlifter&#39;: 6,\n         &#39;bodybuilder&#39;: 10,\n         &#39;yoke&#39;: 4,\n         &#39;piping&#39;: 16,\n         &#39;into&#39;: 13256,\n         &#39;lats&#39;: 7,\n         &#39;pecs&#39;: 3,\n         &#39;usual&#39;: 973,\n         &#39;restrictive&#39;: 16,\n         &#39;band&#39;: 6213,\n         &#39;makes&#39;: 7506,\n         &#39;design&#39;: 1611,\n         &#39;flawed&#39;: 112,\n         &#39;wasn&#39;: 2407,\n         &#39;sale&#39;: 535,\n         &#39;involve&#39;: 113,\n         &#39;unfortunately&#39;: 1367,\n         &#39;ink&#39;: 198,\n         &#39;filled&#39;: 927,\n         &#39;security&#39;: 367,\n         &#39;button&#39;: 1356,\n         &#39;since&#39;: 8144,\n         &#39;extreme&#39;: 398,\n         &#39;inconvenience&#39;: 40,\n         &#39;pre&#39;: 647,\n         &#39;mailing&#39;: 47,\n         &#39;original&#39;: 4994,\n         &#39;spoke&#39;: 139,\n         &#39;yet&#39;: 5487,\n         &#39;see&#39;: 12178,\n         &#39;credit&#39;: 730,\n         &#39;card&#39;: 1899,\n         &#39;billed&#39;: 45,\n         &#39;twice&#39;: 984,\n         &#39;unhappy&#39;: 138,\n         &#39;smalls&#39;: 6,\n         &#39;stains&#39;: 69,\n         &#39;sadly&#39;: 446,\n         &#39;designed&#39;: 900,\n         &#39;comes&#39;: 4780,\n         &#39;detached&#39;: 44,\n         &#39;clip&#39;: 570,\n         &#39;while&#39;: 10686,\n         &#39;exercising&#39;: 79,\n         &#39;plunges&#39;: 10,\n         &#39;floor&#39;: 874,\n         &#39;dragging&#39;: 64,\n         &#39;headphones&#39;: 151,\n         &#39;produc&#39;: 66,\n         &#39;sende&#39;: 2,\n         &#39;review&#39;: 3460,\n         &#39;receive&#39;: 534,\n         &#39;kc&#39;: 14,\n         &#39;visible&#39;: 170,\n         &#39;defects&#39;: 43,\n         &#39;noticed&#39;: 894,\n         &#39;bottom&#39;: 1495,\n         &#39;tribeca&#39;: 3,\n         &#39;9&#39;: 2149,\n         &#39;comfortability&#39;: 3,\n         &#39;luck&#39;: 619,\n         &#39;shoppers&#39;: 13,\n         &#39;boot&#39;: 446,\n         &#39;guess&#39;: 1767,\n         &#39;sort&#39;: 1345,\n         &#39;flaw&#39;: 272,\n         &#39;function&#39;: 482,\n         &#39;location&#39;: 296,\n         &#39;break&#39;: 1489,\n         &#39;sweat&#39;: 216,\n         &#39;trying&#39;: 3269,\n         &#39;believe&#39;: 3125,\n         &#39;based&#39;: 2161,\n         &#39;awkward&#39;: 280,\n         &#39;walk&#39;: 871,\n         &#39;wedge&#39;: 72,\n         &#39;always&#39;: 7399,\n         &#39;trendy&#39;: 76,\n         &#39;tend&#39;: 703,\n         &#39;easy&#39;: 8760,\n         &#39;sorry&#39;: 886,\n         &#39;vendor&#39;: 159,\n         &#39;working&#39;: 2060,\n         &#39;immediately&#39;: 1284,\n         &#39;interspersing&#39;: 4,\n         &#39;cardio&#39;: 112,\n         &#39;workouts&#39;: 235,\n         &#39;weights&#39;: 187,\n         &#39;prior&#39;: 468,\n         &#39;injuries&#39;: 45,\n         &#39;consider&#39;: 1070,\n         &#39;using&#39;: 5561,\n         &#39;form&#39;: 1352,\n         &#39;played&#39;: 4820,\n         &#39;sport&#39;: 184,\n         &#39;etc&#39;: 3118,\n         &#39;couple&#39;: 3177,\n         &#39;days&#39;: 4156,\n         &#39;neck&#39;: 659,\n         &#39;shoulders&#39;: 256,\n         &#39;spasming&#39;: 2,\n         &#39;stiff&#39;: 269,\n         &#39;barely&#39;: 684,\n         &#39;move&#39;: 1989,\n         &#39;regularly&#39;: 250,\n         &#39;clearly&#39;: 1032,\n         &#39;amount&#39;: 1292,\n         &#39;heavier&#39;: 343,\n         &#39;included&#39;: 1854,\n         &#39;perhaps&#39;: 1985,\n         &#39;doing&#39;: 2504,\n         &#39;exercises&#39;: 265,\n         &#39;incorrectly&#39;: 81,\n         &#39;seems&#39;: 4936,\n         &#39;real&#39;: 6120,\n         &#39;risk&#39;: 338,\n         &#39;video&#39;: 4217,\n         &#39;ad&#39;: 321,\n         &#39;hook&#39;: 526,\n         &#39;line&#39;: 3056,\n         &#39;sinker&#39;: 3,\n         &#39;memory&#39;: 1473,\n         &#39;foam&#39;: 255,\n         &#39;idea&#39;: 2159,\n         &#39;bilateral&#39;: 2,\n         &#39;plantar&#39;: 10,\n         &#39;fascitis&#39;: 3,\n         &#39;suffering&#39;: 228,\n         &#39;feet&#39;: 1768,\n         &#39;awaited&#39;: 45,\n         &#39;relief&#39;: 253,\n         &#39;hrs&#39;: 64,\n         &#39;flat&#39;: 769,\n         &#39;leaves&#39;: 1084,\n         &#39;formerly&#39;: 45,\n         &#39;snuggly&#39;: 44,\n         &#39;slippers&#39;: 290,\n         &#39;sloshing&#39;: 2,\n         &#39;flapping&#39;: 17,\n         &#39;walking&#39;: 803,\n         &#39;cardboard&#39;: 242,\n         &#39;save&#39;: 1554,\n         &#39;flexibility&#39;: 94,\n         &#39;slip&#39;: 404,\n         &#39;hand&#39;: 2765,\n         &#39;cover&#39;: 2915,\n         &#39;full&#39;: 4026,\n         &#39;protection&#39;: 474,\n         &#39;amazons&#39;: 14,\n         &#39;site&#39;: 799,\n         &#39;widths&#39;: 16,\n         &#39;supplier&#39;: 53,\n         &#39;carry&#39;: 1567,\n         &#39;ones&#39;: 2607,\n         &#39;birkenstocks&#39;: 30,\n         &#39;normally&#39;: 598,\n         &#39;specify&#39;: 32,\n         &#39;exchange&#39;: 252,\n         &#39;possible&#39;: 1245,\n         &#39;stuck&#39;: 773,\n         &#39;midwest&#39;: 56,\n         &#39;couldn&#39;: 2242,\n         &#39;care&#39;: 1901,\n         &#39;maybe&#39;: 3212,\n         &#39;stick&#39;: 1203,\n         &#39;bulbs&#39;: 46,\n         &#39;bulb&#39;: 92,\n         &#39;total&#39;: 994,\n         &#39;burns&#39;: 166,\n         &#39;tiny&#39;: 739,\n         &#39;burned&#39;: 239,\n         &#39;worthless&#39;: 188,\n         &#39;spare&#39;: 373,\n         &#39;useless&#39;: 471,\n         &#39;dollar&#39;: 428,\n         &#39;receipts&#39;: 27,\n         &#39;gotten&#39;: 959,\n         &#39;jeans&#39;: 437,\n         &#39;disappointing&#39;: 462,\n         &#39;hearing&#39;: 905,\n         &#39;pdc&#39;: 3,\n         &#39;many&#39;: 12773,\n         &#39;excited&#39;: 808,\n         &#39;own&#39;: 7299,\n         &#39;features&#39;: 2943,\n         &#39;include&#39;: 1343,\n         &#39;pockets&#39;: 388,\n         &#39;feature&#39;: 2207,\n         &#39;vest&#39;: 74,\n         &#39;lining&#39;: 140,\n         &#39;result&#39;: 987,\n         &#39;carried&#39;: 319,\n         &#39;car&#39;: 3253,\n         &#39;keys&#39;: 480,\n         &#39;developed&#39;: 480,\n         &#39;holes&#39;: 411,\n         &#39;avoid&#39;: 696,\n         &#39;address&#39;: 273,\n         &#39;fake&#39;: 283,\n         ...})"
     },
     "metadata": {},
     "execution_count": 3
    }
   ],
   "source": [
    "vocabulary.word_count"
   ]
  },
  {
   "cell_type": "code",
   "execution_count": null,
   "metadata": {},
   "outputs": [],
   "source": []
  }
 ]
}